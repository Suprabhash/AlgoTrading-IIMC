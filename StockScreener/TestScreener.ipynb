{
 "cells": [
  {
   "cell_type": "code",
   "execution_count": 6,
   "metadata": {},
   "outputs": [
    {
     "name": "stdout",
     "output_type": "stream",
     "text": [
      "The autoreload extension is already loaded. To reload it, use:\n",
      "  %reload_ext autoreload\n"
     ]
    }
   ],
   "source": [
    "%load_ext autoreload\n",
    "%autoreload 2"
   ]
  },
  {
   "cell_type": "code",
   "execution_count": 7,
   "metadata": {},
   "outputs": [],
   "source": [
    "import warnings\n",
    "warnings.filterwarnings(\"ignore\")"
   ]
  },
  {
   "cell_type": "code",
   "execution_count": 9,
   "metadata": {},
   "outputs": [],
   "source": [
    "from screener import screener\n",
    "from Nifty50 import tickers as universe_of_stocks"
   ]
  },
  {
   "cell_type": "code",
   "execution_count": 121,
   "metadata": {},
   "outputs": [],
   "source": [
    "def rules(tickers):\n",
    "    import yfinance as yf\n",
    "    import pandas as pd\n",
    "    from datetime import datetime\n",
    "    from datetime import timedelta\n",
    "    today = datetime.now()\n",
    "    start = today-timedelta(days=380)\n",
    "    today = today.strftime('%Y-%m-%d')\n",
    "    start = start.strftime('%Y-%m-%d')\n",
    "    res = []\n",
    "    for ticker in tickers:\n",
    "        df_ticker = yf.download(ticker, start=start, end=today).rename(columns={\"Close\": ticker})[[ticker]]\n",
    "        for roc in [5,21,42,63,126,252]:\n",
    "            df_ticker[f\"{ticker}ROC{roc}\"] = df_ticker[[ticker]].pct_change(roc)\n",
    "        df_ticker.dropna(inplace=True)\n",
    "        df_ticker[\"Momentum\"] = df_ticker[[column for column in df_ticker.columns if \"ROC\" in column]].mean(axis=1)\n",
    "        momentum = df_ticker[\"Momentum\"].iloc[-1]\n",
    "        res.append({'ticker': ticker, 'momentum': momentum})\n",
    "    res = pd.DataFrame(res).sort_values(by=\"momentum\", ascending=False).set_index(\"ticker\")\n",
    "    res = list(res.index)\n",
    "    return res"
   ]
  },
  {
   "cell_type": "code",
   "execution_count": 124,
   "metadata": {},
   "outputs": [
    {
     "name": "stdout",
     "output_type": "stream",
     "text": [
      "[*********************100%***********************]  1 of 1 completed\n",
      "[*********************100%***********************]  1 of 1 completed\n",
      "[*********************100%***********************]  1 of 1 completed\n",
      "[*********************100%***********************]  1 of 1 completed\n",
      "[*********************100%***********************]  1 of 1 completed\n",
      "[*********************100%***********************]  1 of 1 completed\n",
      "               momentum\n",
      "ticker                 \n",
      "BAJAJ-AUTO.NS  0.035159\n",
      "APOLLOHOSP.NS -0.044406\n",
      "ADANIPORTS.NS -0.069398\n",
      "ASIANPAINT.NS -0.070087\n",
      "AXISBANK.NS   -0.095605\n",
      "BAJFINANCE.NS -0.116566\n"
     ]
    }
   ],
   "source": [
    "\n",
    "sc = screener(universe_of_stocks=universe_of_stocks, screener_rules=rules)\n",
    "tickers = sc.select_tickers(number=1)"
   ]
  },
  {
   "cell_type": "code",
   "execution_count": 125,
   "metadata": {},
   "outputs": [
    {
     "data": {
      "text/plain": [
       "['BAJAJ-AUTO.NS']"
      ]
     },
     "execution_count": 125,
     "metadata": {},
     "output_type": "execute_result"
    },
    {
     "ename": "",
     "evalue": "",
     "output_type": "error",
     "traceback": [
      "\u001b[1;31mThe Kernel crashed while executing code in the the current cell or a previous cell. Please review the code in the cell(s) to identify a possible cause of the failure. Click <a href='https://aka.ms/vscodeJupyterKernelCrash'>here</a> for more info. View Jupyter <a href='command:jupyter.viewOutput'>log</a> for further details."
     ]
    },
    {
     "ename": "",
     "evalue": "",
     "output_type": "error",
     "traceback": [
      "\u001b[1;31mThe Kernel crashed while executing code in the the current cell or a previous cell. Please review the code in the cell(s) to identify a possible cause of the failure. Click <a href='https://aka.ms/vscodeJupyterKernelCrash'>here</a> for more info. View Jupyter <a href='command:jupyter.viewOutput'>log</a> for further details."
     ]
    }
   ],
   "source": [
    "tickers"
   ]
  }
 ],
 "metadata": {
  "kernelspec": {
   "display_name": "Python 3.9.6 ('.venv': venv)",
   "language": "python",
   "name": "python3"
  },
  "language_info": {
   "codemirror_mode": {
    "name": "ipython",
    "version": 3
   },
   "file_extension": ".py",
   "mimetype": "text/x-python",
   "name": "python",
   "nbconvert_exporter": "python",
   "pygments_lexer": "ipython3",
   "version": "3.9.6"
  },
  "orig_nbformat": 4,
  "vscode": {
   "interpreter": {
    "hash": "e0e80eeff3c7d04bfd8270a168f9398a732ad9aeb350aadc95397468208ae091"
   }
  }
 },
 "nbformat": 4,
 "nbformat_minor": 2
}
